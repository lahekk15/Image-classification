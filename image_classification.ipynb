{
 "cells": [
  {
   "cell_type": "code",
   "execution_count": 1,
   "metadata": {},
   "outputs": [],
   "source": [
    "import tensorflow as tf\n",
    "import os"
   ]
  },
  {
   "cell_type": "code",
   "execution_count": 3,
   "metadata": {},
   "outputs": [],
   "source": [
    "gpus = tf.config.experimental.list_physical_devices('GPU')\n",
    "for gpu in gpus:\n",
    "    tf.config.experimental.set_memory_growth(gpu,True)\n",
    "    "
   ]
  },
  {
   "cell_type": "code",
   "execution_count": 4,
   "metadata": {},
   "outputs": [
    {
     "data": {
      "text/plain": [
       "[]"
      ]
     },
     "execution_count": 4,
     "metadata": {},
     "output_type": "execute_result"
    }
   ],
   "source": [
    "gpus"
   ]
  },
  {
   "cell_type": "code",
   "execution_count": 6,
   "metadata": {},
   "outputs": [
    {
     "name": "stderr",
     "output_type": "stream",
     "text": [
      "/var/folders/4j/kzp88xbs19l9k2c00yzrzgkh0000gn/T/ipykernel_34336/4232469594.py:2: DeprecationWarning: 'imghdr' is deprecated and slated for removal in Python 3.13\n",
      "  import imghdr\n"
     ]
    }
   ],
   "source": [
    "import cv2\n",
    "import imghdr"
   ]
  },
  {
   "cell_type": "code",
   "execution_count": 11,
   "metadata": {},
   "outputs": [
    {
     "data": {
      "text/plain": [
       "['happy_faces', 'sad_faces']"
      ]
     },
     "execution_count": 11,
     "metadata": {},
     "output_type": "execute_result"
    }
   ],
   "source": [
    "data_dir = 'data'\n",
    "os.listdir(data_dir)"
   ]
  },
  {
   "cell_type": "code",
   "execution_count": 8,
   "metadata": {},
   "outputs": [],
   "source": [
    "image_exts = ['jpeg','jpg','bmp','png']"
   ]
  },
  {
   "cell_type": "code",
   "execution_count": 13,
   "metadata": {},
   "outputs": [
    {
     "name": "stdout",
     "output_type": "stream",
     "text": [
      "AF2bZyhCXlNwVIdE05IWIvWDpU616mcbBJIQbe_MKyklcZjEEQ-s64-c-mo.png\n",
      "images (2).jpeg\n",
      "images (4).jpeg\n",
      "images.jpeg\n",
      "ACg8ocI3pOuafuvr3kg-9x9nUtbncALkqbvtE9eJs4BV1REecmFskA-s48-c.png\n",
      "ACg8ocIM2hYxJXeirY3Ccr9xBfmrPGTOwVeANQNhIx1LyJ59pMA1Cg-s128-.png\n",
      "image (8).jpeg\n",
      "images (1).jpeg\n",
      "images (3).jpeg\n",
      "image (9).jpeg\n",
      "ACg8ocIM2hYxJXeirY3Ccr9xBfmrPGTOwVeANQNhIx1LyJ59pMA1Cg-s83-c.png\n",
      "checkmark.png\n",
      "AF2bZyhCXlNwVIdE05IWIvWDpU616mcbBJIQbe_MKyklcZjEEQ-s32-c-mo.png\n",
      "photo.jpg\n",
      "image (7).jpeg\n",
      "image (13).jpeg\n",
      "image (11).jpeg\n",
      "image (5).jpeg\n",
      "image (1).png\n",
      "image.jpeg\n",
      "image (15).jpeg\n",
      "image (1).jpeg\n",
      "image (3).jpeg\n",
      "image (17).jpeg\n",
      "image (4).jpeg\n",
      "image (10).jpeg\n",
      "image (12).jpeg\n",
      "image (6).jpeg\n",
      "image (16).jpeg\n",
      "image (2).jpeg\n",
      "ACg8ocIM2hYxJXeirY3Ccr9xBfmrPGTOwVeANQNhIx1LyJ59pMA1Cg-s192-.png\n",
      "image.png\n",
      "p_2x_eb7895ba582f.png\n",
      "image (14).jpeg\n",
      "AF2bZyhCXlNwVIdE05IWIvWDpU616mcbBJIQbe_MKyklcZjEEQ-s64-c-mo.png\n",
      "images (2).jpeg\n",
      "images.jpeg\n",
      "ACg8ocIM2hYxJXeirY3Ccr9xBfmrPGTOwVeANQNhIx1LyJ59pMA1Cg-s128-.png\n",
      "image (8).jpeg\n",
      "images (1).jpeg\n",
      "image (9).jpeg\n",
      "checkmark.png\n",
      "AF2bZyhCXlNwVIdE05IWIvWDpU616mcbBJIQbe_MKyklcZjEEQ-s32-c-mo.png\n",
      "image (7).jpeg\n",
      "image (13).jpeg\n",
      "image (11).jpeg\n",
      "image (5).jpeg\n",
      "image (1).png\n",
      "image.jpeg\n",
      "image (15).jpeg\n",
      "image (1).jpeg\n",
      "image (3).jpeg\n",
      "image (17).jpeg\n",
      "image (4).jpeg\n",
      "image (10).jpeg\n",
      "image (12).jpeg\n",
      "image (6).jpeg\n",
      "image (16).jpeg\n",
      "image (2).jpeg\n",
      "image.png\n",
      "p_2x_eb7895ba582f.png\n",
      "image (14).jpeg\n"
     ]
    }
   ],
   "source": [
    "for image_class in os.listdir(data_dir):\n",
    "    for image in os.listdir(os.path.join(data_dir, image_class)):\n",
    "        print(image)"
   ]
  },
  {
   "cell_type": "code",
   "execution_count": 28,
   "metadata": {},
   "outputs": [
    {
     "name": "stderr",
     "output_type": "stream",
     "text": [
      "[ WARN:0@1939.128] global loadsave.cpp:241 findDecoder imread_('data/data/happy_faces/photo.jpg'): can't open/read file: check file path/integrity\n"
     ]
    }
   ],
   "source": [
    "img = cv2.imread(os.path.join('data','data/happy_faces/photo.jpg'))\n",
    "\n"
   ]
  },
  {
   "cell_type": "code",
   "execution_count": 29,
   "metadata": {},
   "outputs": [],
   "source": [
    "img"
   ]
  },
  {
   "cell_type": "code",
   "execution_count": 12,
   "metadata": {},
   "outputs": [
    {
     "name": "stdout",
     "output_type": "stream",
     "text": [
      "happy_faces\n",
      "sad_faces\n"
     ]
    }
   ],
   "source": [
    "for image_class in os.listdir(data_dir):\n",
    "    for image in os.listdir(os.path.join(data_dir, image_class)):\n",
    "        image_path = os.path.join(data_dir, image_class, image)\n",
    "        try:\n",
    "            img = cv2.imread(image_path)\n",
    "            tip = imghdr.what(image_path)\n",
    "            if tip not in image_exts:\n",
    "                print('image not in ext list'. format(image_path))\n",
    "                os.remove(image_path)\n",
    "        except Exception as e:\n",
    "            print('issue in the image'.format(image_path))\n"
   ]
  },
  {
   "cell_type": "code",
   "execution_count": null,
   "metadata": {},
   "outputs": [],
   "source": []
  }
 ],
 "metadata": {
  "kernelspec": {
   "display_name": "Python 3",
   "language": "python",
   "name": "python3"
  },
  "language_info": {
   "codemirror_mode": {
    "name": "ipython",
    "version": 3
   },
   "file_extension": ".py",
   "mimetype": "text/x-python",
   "name": "python",
   "nbconvert_exporter": "python",
   "pygments_lexer": "ipython3",
   "version": "3.11.4"
  }
 },
 "nbformat": 4,
 "nbformat_minor": 2
}
